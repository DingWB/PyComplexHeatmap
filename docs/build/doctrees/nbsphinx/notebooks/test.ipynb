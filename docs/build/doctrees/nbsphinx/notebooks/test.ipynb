{
 "cells": [
  {
   "cell_type": "code",
   "execution_count": 1,
   "id": "5abd163d-47c1-4419-ae06-c6be2c69a624",
   "metadata": {},
   "outputs": [
    {
     "name": "stdout",
     "output_type": "stream",
     "text": [
      "1.7.2.dev0+g8abf70a.d20240415\n"
     ]
    }
   ],
   "source": [
    "import os,sys\n",
    "%matplotlib inline\n",
    "import matplotlib.pylab as plt\n",
    "import pickle\n",
    "plt.rcParams['figure.dpi'] = 100\n",
    "plt.rcParams['savefig.dpi']=300\n",
    "sys.path.append(os.path.expanduser(\"~/Projects/Github/PyComplexHeatmap\"))\n",
    "import PyComplexHeatmap\n",
    "print(PyComplexHeatmap.__version__)\n",
    "from PyComplexHeatmap import *"
   ]
  },
  {
   "cell_type": "code",
   "execution_count": 2,
   "id": "eed2f250-92b2-434c-b268-22b4be27d4f6",
   "metadata": {},
   "outputs": [],
   "source": [
    "#set font to Arial using the following code\n",
    "plt.rcParams['font.family']='sans serif'\n",
    "plt.rcParams['font.sans-serif']='Arial'\n",
    "# set pdf.fonttype to 42\n",
    "plt.rcParams['pdf.fonttype']=42"
   ]
  },
  {
   "cell_type": "code",
   "execution_count": null,
   "id": "548e870f-91fc-4f63-91d8-96f8822cbf36",
   "metadata": {},
   "outputs": [],
   "source": []
  }
 ],
 "metadata": {
  "kernelspec": {
   "display_name": "wding",
   "language": "python",
   "name": "wding"
  },
  "language_info": {
   "codemirror_mode": {
    "name": "ipython",
    "version": 3
   },
   "file_extension": ".py",
   "mimetype": "text/x-python",
   "name": "python",
   "nbconvert_exporter": "python",
   "pygments_lexer": "ipython3",
   "version": "3.8.19"
  }
 },
 "nbformat": 4,
 "nbformat_minor": 5
}
