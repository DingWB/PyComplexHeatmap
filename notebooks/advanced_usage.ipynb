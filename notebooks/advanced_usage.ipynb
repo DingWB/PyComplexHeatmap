{
 "cells": [
  {
   "cell_type": "code",
   "execution_count": 1,
   "id": "57aee9af",
   "metadata": {},
   "outputs": [
    {
     "name": "stdout",
     "output_type": "stream",
     "text": [
      "1.6.1\n"
     ]
    }
   ],
   "source": [
    "import os,sys\n",
    "%matplotlib inline\n",
    "import matplotlib.pylab as plt\n",
    "import pickle\n",
    "plt.rcParams['figure.dpi'] = 100\n",
    "plt.rcParams['savefig.dpi']=300\n",
    "# sys.path.append(os.path.expanduser(\"~/Projects/Github/PyComplexHeatmap\"))\n",
    "import PyComplexHeatmap\n",
    "print(PyComplexHeatmap.__version__)\n",
    "from PyComplexHeatmap import *"
   ]
  },
  {
   "cell_type": "code",
   "execution_count": 2,
   "id": "f599145a-fc27-4424-9fa5-e7ae53bb7cdf",
   "metadata": {},
   "outputs": [],
   "source": [
    "#set font to Arial using the following code\n",
    "plt.rcParams['font.family']='sans serif'\n",
    "plt.rcParams['font.sans-serif']='Arial'\n",
    "# set pdf.fonttype to 42\n",
    "plt.rcParams['pdf.fonttype']=42"
   ]
  },
  {
   "cell_type": "markdown",
   "id": "6915c867",
   "metadata": {},
   "source": [
    "## Generate dataset"
   ]
  },
  {
   "cell_type": "code",
   "execution_count": 3,
   "id": "224b34a4",
   "metadata": {},
   "outputs": [],
   "source": [
    "#Generate example dataset (random)\n",
    "df = pd.DataFrame(['GroupA'] * 5 + ['GroupB'] * 5, columns=['AB'])\n",
    "df['CD'] = ['C'] * 3 + ['D'] * 3 + ['G'] * 4\n",
    "df['EF'] = ['E'] * 6 + ['F'] * 2 + ['H'] * 2\n",
    "df['F'] = np.random.normal(0, 1, 10)\n",
    "df.index = ['sample' + str(i) for i in range(1, df.shape[0] + 1)]\n",
    "df_box = pd.DataFrame(np.random.randn(10, 4), columns=['Gene' + str(i) for i in range(1, 5)])\n",
    "df_box.index = ['sample' + str(i) for i in range(1, df_box.shape[0] + 1)]\n",
    "df_bar = pd.DataFrame(np.random.uniform(0, 10, (10, 2)), columns=['TMB1', 'TMB2'])\n",
    "df_bar.index = ['sample' + str(i) for i in range(1, df_box.shape[0] + 1)]\n",
    "df_scatter = pd.DataFrame(np.random.uniform(0, 10, 10), columns=['Scatter'])\n",
    "df_scatter.index = ['sample' + str(i) for i in range(1, df_box.shape[0] + 1)]\n",
    "df_heatmap = pd.DataFrame(np.random.randn(30, 10), columns=['sample' + str(i) for i in range(1, 11)])\n",
    "df_heatmap.index = [\"Fea\" + str(i) for i in range(1, df_heatmap.shape[0] + 1)]\n",
    "df_heatmap.iloc[1, 2] = np.nan"
   ]
  },
  {
   "cell_type": "markdown",
   "id": "dda85669",
   "metadata": {},
   "source": [
    "## Add selected rows labels"
   ]
  },
  {
   "cell_type": "code",
   "execution_count": 4,
   "id": "4eafa01a",
   "metadata": {},
   "outputs": [
    {
     "ename": "AttributeError",
     "evalue": "'ClusterMapPlotter' object has no attribute 'rasterized'",
     "output_type": "error",
     "traceback": [
      "\u001b[0;31m---------------------------------------------------------------------------\u001b[0m",
      "\u001b[0;31mAttributeError\u001b[0m                            Traceback (most recent call last)",
      "Cell \u001b[0;32mIn[4], line 25\u001b[0m\n\u001b[1;32m     15\u001b[0m col_ha \u001b[38;5;241m=\u001b[39m HeatmapAnnotation(\n\u001b[1;32m     16\u001b[0m                            label\u001b[38;5;241m=\u001b[39manno_label(df\u001b[38;5;241m.\u001b[39mAB, merge\u001b[38;5;241m=\u001b[39m\u001b[38;5;28;01mTrue\u001b[39;00m,rotation\u001b[38;5;241m=\u001b[39m\u001b[38;5;241m10\u001b[39m),\n\u001b[1;32m     17\u001b[0m                            AB\u001b[38;5;241m=\u001b[39manno_simple(df\u001b[38;5;241m.\u001b[39mAB,add_text\u001b[38;5;241m=\u001b[39m\u001b[38;5;28;01mTrue\u001b[39;00m),axis\u001b[38;5;241m=\u001b[39m\u001b[38;5;241m1\u001b[39m,\n\u001b[0;32m   (...)\u001b[0m\n\u001b[1;32m     21\u001b[0m                            G\u001b[38;5;241m=\u001b[39manno_boxplot(df_box, cmap\u001b[38;5;241m=\u001b[39m\u001b[38;5;124m'\u001b[39m\u001b[38;5;124mjet\u001b[39m\u001b[38;5;124m'\u001b[39m,legend\u001b[38;5;241m=\u001b[39m\u001b[38;5;28;01mFalse\u001b[39;00m),\n\u001b[1;32m     22\u001b[0m                            verbose\u001b[38;5;241m=\u001b[39m\u001b[38;5;241m0\u001b[39m)\n\u001b[1;32m     24\u001b[0m plt\u001b[38;5;241m.\u001b[39mfigure(figsize\u001b[38;5;241m=\u001b[39m(\u001b[38;5;241m5.5\u001b[39m, \u001b[38;5;241m6.5\u001b[39m))\n\u001b[0;32m---> 25\u001b[0m cm \u001b[38;5;241m=\u001b[39m \u001b[43mClusterMapPlotter\u001b[49m\u001b[43m(\u001b[49m\u001b[43mdata\u001b[49m\u001b[38;5;241;43m=\u001b[39;49m\u001b[43mdf_heatmap\u001b[49m\u001b[43m,\u001b[49m\u001b[43m \u001b[49m\u001b[43mtop_annotation\u001b[49m\u001b[38;5;241;43m=\u001b[39;49m\u001b[43mcol_ha\u001b[49m\u001b[43m,\u001b[49m\u001b[43mright_annotation\u001b[49m\u001b[38;5;241;43m=\u001b[39;49m\u001b[43mrow_ha\u001b[49m\u001b[43m,\u001b[49m\n\u001b[1;32m     26\u001b[0m \u001b[43m                       \u001b[49m\u001b[43mcol_cluster\u001b[49m\u001b[38;5;241;43m=\u001b[39;49m\u001b[38;5;28;43;01mTrue\u001b[39;49;00m\u001b[43m,\u001b[49m\u001b[43mrow_cluster\u001b[49m\u001b[38;5;241;43m=\u001b[39;49m\u001b[38;5;28;43;01mTrue\u001b[39;49;00m\u001b[43m,\u001b[49m\n\u001b[1;32m     27\u001b[0m \u001b[43m                       \u001b[49m\u001b[43mcol_split\u001b[49m\u001b[38;5;241;43m=\u001b[39;49m\u001b[43mdf\u001b[49m\u001b[38;5;241;43m.\u001b[39;49m\u001b[43mAB\u001b[49m\u001b[43m,\u001b[49m\u001b[43mrow_split\u001b[49m\u001b[38;5;241;43m=\u001b[39;49m\u001b[38;5;241;43m2\u001b[39;49m\u001b[43m,\u001b[49m\u001b[43m \u001b[49m\n\u001b[1;32m     28\u001b[0m \u001b[43m                       \u001b[49m\u001b[43mcol_split_gap\u001b[49m\u001b[38;5;241;43m=\u001b[39;49m\u001b[38;5;241;43m0.5\u001b[39;49m\u001b[43m,\u001b[49m\u001b[43mrow_split_gap\u001b[49m\u001b[38;5;241;43m=\u001b[39;49m\u001b[38;5;241;43m0.8\u001b[39;49m\u001b[43m,\u001b[49m\n\u001b[1;32m     29\u001b[0m \u001b[43m                       \u001b[49m\u001b[43mlabel\u001b[49m\u001b[38;5;241;43m=\u001b[39;49m\u001b[38;5;124;43m'\u001b[39;49m\u001b[38;5;124;43mvalues\u001b[39;49m\u001b[38;5;124;43m'\u001b[39;49m\u001b[43m,\u001b[49m\u001b[43mrow_dendrogram\u001b[49m\u001b[38;5;241;43m=\u001b[39;49m\u001b[38;5;28;43;01mTrue\u001b[39;49;00m\u001b[43m,\u001b[49m\u001b[43mcol_dendrogram\u001b[49m\u001b[38;5;241;43m=\u001b[39;49m\u001b[38;5;28;43;01mFalse\u001b[39;49;00m\u001b[43m,\u001b[49m\u001b[43mrow_dendrogram_size\u001b[49m\u001b[38;5;241;43m=\u001b[39;49m\u001b[38;5;241;43m15\u001b[39;49m\u001b[43m,\u001b[49m\n\u001b[1;32m     30\u001b[0m \u001b[43m                       \u001b[49m\u001b[43mshow_rownames\u001b[49m\u001b[38;5;241;43m=\u001b[39;49m\u001b[38;5;28;43;01mFalse\u001b[39;49;00m\u001b[43m,\u001b[49m\u001b[43mshow_colnames\u001b[49m\u001b[38;5;241;43m=\u001b[39;49m\u001b[38;5;28;43;01mTrue\u001b[39;49;00m\u001b[43m,\u001b[49m\n\u001b[1;32m     31\u001b[0m \u001b[43m                       \u001b[49m\u001b[43mtree_kws\u001b[49m\u001b[38;5;241;43m=\u001b[39;49m\u001b[43m{\u001b[49m\u001b[38;5;124;43m'\u001b[39;49m\u001b[38;5;124;43mrow_cmap\u001b[39;49m\u001b[38;5;124;43m'\u001b[39;49m\u001b[43m:\u001b[49m\u001b[43m \u001b[49m\u001b[38;5;124;43m'\u001b[39;49m\u001b[38;5;124;43mSet1\u001b[39;49m\u001b[38;5;124;43m'\u001b[39;49m\u001b[43m}\u001b[49m\u001b[43m,\u001b[49m\u001b[43mverbose\u001b[49m\u001b[38;5;241;43m=\u001b[39;49m\u001b[38;5;241;43m0\u001b[39;49m\u001b[43m,\u001b[49m\u001b[43mlegend_gap\u001b[49m\u001b[38;5;241;43m=\u001b[39;49m\u001b[38;5;241;43m5\u001b[39;49m\u001b[43m,\u001b[49m\n\u001b[1;32m     32\u001b[0m \u001b[43m                       \u001b[49m\u001b[43mcmap\u001b[49m\u001b[38;5;241;43m=\u001b[39;49m\u001b[38;5;124;43m'\u001b[39;49m\u001b[38;5;124;43mRdYlBu_r\u001b[39;49m\u001b[38;5;124;43m'\u001b[39;49m\u001b[43m,\u001b[49m\u001b[43mxticklabels_kws\u001b[49m\u001b[38;5;241;43m=\u001b[39;49m\u001b[43m{\u001b[49m\u001b[38;5;124;43m'\u001b[39;49m\u001b[38;5;124;43mlabelrotation\u001b[39;49m\u001b[38;5;124;43m'\u001b[39;49m\u001b[43m:\u001b[49m\u001b[38;5;241;43m-\u001b[39;49m\u001b[38;5;241;43m90\u001b[39;49m\u001b[43m,\u001b[49m\u001b[38;5;124;43m'\u001b[39;49m\u001b[38;5;124;43mlabelcolor\u001b[39;49m\u001b[38;5;124;43m'\u001b[39;49m\u001b[43m:\u001b[49m\u001b[38;5;124;43m'\u001b[39;49m\u001b[38;5;124;43mblue\u001b[39;49m\u001b[38;5;124;43m'\u001b[39;49m\u001b[43m}\u001b[49m\u001b[43m)\u001b[49m\n\u001b[1;32m     33\u001b[0m plt\u001b[38;5;241m.\u001b[39msavefig(\u001b[38;5;124m\"\u001b[39m\u001b[38;5;124mexample0.pdf\u001b[39m\u001b[38;5;124m\"\u001b[39m, bbox_inches\u001b[38;5;241m=\u001b[39m\u001b[38;5;124m'\u001b[39m\u001b[38;5;124mtight\u001b[39m\u001b[38;5;124m'\u001b[39m)\n\u001b[1;32m     34\u001b[0m plt\u001b[38;5;241m.\u001b[39mshow()\n",
      "File \u001b[0;32m~/Software/miniconda3/envs/wding/lib/python3.8/site-packages/PyComplexHeatmap/clustermap.py:1150\u001b[0m, in \u001b[0;36mClusterMapPlotter.__init__\u001b[0;34m(self, data, z_score, standard_scale, top_annotation, bottom_annotation, left_annotation, right_annotation, row_cluster, col_cluster, row_cluster_method, row_cluster_metric, col_cluster_method, col_cluster_metric, show_rownames, show_colnames, row_names_side, col_names_side, xticklabels_kws, yticklabels_kws, row_dendrogram, col_dendrogram, row_dendrogram_size, col_dendrogram_size, row_split, col_split, dendrogram_kws, tree_kws, row_split_order, col_split_order, row_split_gap, col_split_gap, mask, subplot_gap, legend, legend_kws, plot, plot_legend, legend_anchor, legend_gap, legend_width, legend_hpad, legend_vpad, legend_side, cmap, label, xlabel, ylabel, xlabel_kws, ylabel_kws, xlabel_side, ylabel_side, xlabel_bbox_kws, ylabel_bbox_kws, rasterized, legend_delta_x, verbose, **kwargs)\u001b[0m\n\u001b[1;32m   1089\u001b[0m \u001b[38;5;28;01mdef\u001b[39;00m \u001b[38;5;21m__init__\u001b[39m(\n\u001b[1;32m   1090\u001b[0m \t\u001b[38;5;28mself\u001b[39m,\n\u001b[1;32m   1091\u001b[0m \tdata,\n\u001b[0;32m   (...)\u001b[0m\n\u001b[1;32m   1147\u001b[0m \t\u001b[38;5;241m*\u001b[39m\u001b[38;5;241m*\u001b[39mkwargs\n\u001b[1;32m   1148\u001b[0m ):\n\u001b[1;32m   1149\u001b[0m \t\u001b[38;5;28mself\u001b[39m\u001b[38;5;241m.\u001b[39mkwargs \u001b[38;5;241m=\u001b[39m kwargs \u001b[38;5;28;01mif\u001b[39;00m \u001b[38;5;129;01mnot\u001b[39;00m kwargs \u001b[38;5;129;01mis\u001b[39;00m \u001b[38;5;28;01mNone\u001b[39;00m \u001b[38;5;28;01melse\u001b[39;00m {}\n\u001b[0;32m-> 1150\u001b[0m \t\u001b[38;5;28mself\u001b[39m\u001b[38;5;241m.\u001b[39mdata2d \u001b[38;5;241m=\u001b[39m \u001b[38;5;28;43mself\u001b[39;49m\u001b[38;5;241;43m.\u001b[39;49m\u001b[43mformat_data\u001b[49m\u001b[43m(\u001b[49m\u001b[43mdata\u001b[49m\u001b[43m,\u001b[49m\u001b[43m \u001b[49m\u001b[43mmask\u001b[49m\u001b[43m,\u001b[49m\u001b[43m \u001b[49m\u001b[43mz_score\u001b[49m\u001b[43m,\u001b[49m\u001b[43m \u001b[49m\u001b[43mstandard_scale\u001b[49m\u001b[43m)\u001b[49m\n\u001b[1;32m   1151\u001b[0m \t\u001b[38;5;28mself\u001b[39m\u001b[38;5;241m.\u001b[39mverbose \u001b[38;5;241m=\u001b[39m verbose\n\u001b[1;32m   1152\u001b[0m \t\u001b[38;5;28mself\u001b[39m\u001b[38;5;241m.\u001b[39m_define_kws(xticklabels_kws, yticklabels_kws)\n",
      "File \u001b[0;32m~/Software/miniconda3/envs/wding/lib/python3.8/site-packages/PyComplexHeatmap/clustermap.py:1237\u001b[0m, in \u001b[0;36mClusterMapPlotter.format_data\u001b[0;34m(self, data, mask, z_score, standard_scale)\u001b[0m\n\u001b[1;32m   1235\u001b[0m \tdata2d \u001b[38;5;241m=\u001b[39m \u001b[38;5;28mself\u001b[39m\u001b[38;5;241m.\u001b[39mstandard_scale(data, standard_scale)\n\u001b[1;32m   1236\u001b[0m \u001b[38;5;28mself\u001b[39m\u001b[38;5;241m.\u001b[39mmask \u001b[38;5;241m=\u001b[39m _check_mask(data2d, mask)\n\u001b[0;32m-> 1237\u001b[0m \u001b[38;5;28;01mif\u001b[39;00m \u001b[38;5;28;43mself\u001b[39;49m\u001b[38;5;241;43m.\u001b[39;49m\u001b[43mrasterized\u001b[49m \u001b[38;5;241m==\u001b[39m \u001b[38;5;124m'\u001b[39m\u001b[38;5;124mauto\u001b[39m\u001b[38;5;124m'\u001b[39m:\n\u001b[1;32m   1238\u001b[0m \t\u001b[38;5;28;01mif\u001b[39;00m \u001b[38;5;28mmax\u001b[39m(\u001b[38;5;28mself\u001b[39m\u001b[38;5;241m.\u001b[39mdata2d\u001b[38;5;241m.\u001b[39mshape[\u001b[38;5;241m0\u001b[39m],\u001b[38;5;28mself\u001b[39m\u001b[38;5;241m.\u001b[39mdata2d\u001b[38;5;241m.\u001b[39mshape[\u001b[38;5;241m1\u001b[39m]) \u001b[38;5;241m>\u001b[39m \u001b[38;5;241m5000\u001b[39m:\n\u001b[1;32m   1239\u001b[0m \t\t\u001b[38;5;28mself\u001b[39m\u001b[38;5;241m.\u001b[39mrasterized \u001b[38;5;241m=\u001b[39m \u001b[38;5;28;01mTrue\u001b[39;00m\n",
      "\u001b[0;31mAttributeError\u001b[0m: 'ClusterMapPlotter' object has no attribute 'rasterized'"
     ]
    },
    {
     "data": {
      "text/plain": [
       "<Figure size 550x650 with 0 Axes>"
      ]
     },
     "metadata": {},
     "output_type": "display_data"
    }
   ],
   "source": [
    "#Annotate the rows with average > 0.3\n",
    "df_rows = df_heatmap.apply(lambda x:x.name if x.sample4 > 0.5 else None,axis=1)\n",
    "df_rows=df_rows.to_frame(name='Selected')\n",
    "df_rows['XY']=df_rows.index.to_series().apply(lambda x:'A' if int(x.replace('Fea',''))>=15 else 'B')\n",
    "\n",
    "row_ha = HeatmapAnnotation(\n",
    "                           Scatter=anno_scatterplot(df_heatmap.sample4.apply(lambda x:round(x,2)),\n",
    "                                            height=12,cmap='jet',legend=False),\n",
    "                           Bar=anno_barplot(df_heatmap.sample4.apply(lambda x:round(x,2)),\n",
    "                                            height=15,cmap='rainbow',legend=False),\n",
    "                           selected=anno_label(df_rows,colors='red',relpos=(-0.05,0.4)),\n",
    "                           label_kws={'rotation':30,'horizontalalignment':'left','verticalalignment':'bottom'},\n",
    "                            axis=0,verbose=0)\n",
    "\n",
    "col_ha = HeatmapAnnotation(\n",
    "                           label=anno_label(df.AB, merge=True,rotation=10),\n",
    "                           AB=anno_simple(df.AB,add_text=True),axis=1,\n",
    "                           CD=anno_simple(df.CD,add_text=True),\n",
    "                           EF=anno_simple(df.EF,add_text=True,\n",
    "                                            legend_kws={'frameon':True}),\n",
    "                           G=anno_boxplot(df_box, cmap='jet',legend=False),\n",
    "                           verbose=0)\n",
    "\n",
    "plt.figure(figsize=(5.5, 6.5))\n",
    "cm = ClusterMapPlotter(data=df_heatmap, top_annotation=col_ha,right_annotation=row_ha,\n",
    "                       col_cluster=True,row_cluster=True,\n",
    "                       col_split=df.AB,row_split=2, \n",
    "                       col_split_gap=0.5,row_split_gap=0.8,\n",
    "                       label='values',row_dendrogram=True,col_dendrogram=False,row_dendrogram_size=15,\n",
    "                       show_rownames=False,show_colnames=True,\n",
    "                       tree_kws={'row_cmap': 'Set1'},verbose=0,legend_gap=5,\n",
    "                       cmap='RdYlBu_r',xticklabels_kws={'labelrotation':-90,'labelcolor':'blue'})\n",
    "plt.savefig(\"example0.pdf\", bbox_inches='tight')\n",
    "plt.show()"
   ]
  },
  {
   "cell_type": "markdown",
   "id": "b63fc76b",
   "metadata": {},
   "source": [
    "## Add float annotations on the top of heatmap cells"
   ]
  },
  {
   "cell_type": "code",
   "execution_count": null,
   "id": "b1f14cd0",
   "metadata": {},
   "outputs": [],
   "source": [
    "#Annotate the rows with average > 0.3\n",
    "df_rows = df_heatmap.apply(lambda x:x.name if x.sample4 > 0.5 else None,axis=1)\n",
    "df_rows=df_rows.to_frame(name='Selected')\n",
    "df_rows['XY']=df_rows.index.to_series().apply(lambda x:'A' if int(x.replace('Fea',''))>=15 else 'B')\n",
    "\n",
    "row_ha = HeatmapAnnotation(S4=anno_simple(df_heatmap.sample4.apply(lambda x:round(x,2)),\n",
    "                                           add_text=True,height=10,\n",
    "                                           text_kws={'rotation':0,'fontsize':10,'color':'black'}),\n",
    "                           # Scatter=anno_scatterplot(df_heatmap.sample4.apply(lambda x:round(x,2)),\n",
    "                           #                  height=10),\n",
    "                           Test=anno_barplot(df_heatmap.sample4.apply(lambda x:round(x,2)),\n",
    "                                            height=18,cmap='rainbow'),\n",
    "                           selected=anno_label(df_rows,colors='red'),\n",
    "                           axis=0,verbose=0,label_kws={'rotation':0,'horizontalalignment':'left','verticalalignment':'bottom'})\n",
    "\n",
    "col_ha = HeatmapAnnotation(label=anno_label(df.AB, merge=True,rotation=15),\n",
    "                           AB=anno_simple(df.AB,add_text=True),axis=1,\n",
    "                           CD=anno_simple(df.CD,add_text=True),\n",
    "                           EF=anno_simple(df.EF,add_text=True,\n",
    "                                            legend_kws={'frameon':False}),\n",
    "                           Exp=anno_boxplot(df_box, cmap='turbo'),\n",
    "                           verbose=0) #verbose=0 will turn off the log.\n",
    "\n",
    "print(df.head())\n",
    "print(df_box.mean(axis=1))\n",
    "print(df_heatmap.head())\n",
    "plt.figure(figsize=(6, 8))\n",
    "cm = ClusterMapPlotter(data=df_heatmap, top_annotation=col_ha,right_annotation=row_ha,\n",
    "                       col_split=df.AB,\n",
    "                       row_split=df_rows.XY, col_split_gap=0.5,row_split_gap=1,\n",
    "                       col_cluster=True,row_cluster=True,\n",
    "                       label='values',row_dendrogram=False,show_rownames=True,show_colnames=True,\n",
    "                         tree_kws={'row_cmap': 'Set1'},verbose=0,legend_gap=7,\n",
    "                       annot=True,fmt='.1g',linewidths=0.05,linecolor='gold',cmap='RdYlBu_r',\n",
    "                      xticklabels_kws={'labelrotation':-45,'labelcolor':'blue'})\n",
    "plt.show()\n",
    "print(cm.row_order)\n",
    "print(cm.col_order)"
   ]
  },
  {
   "cell_type": "markdown",
   "id": "1cdafe6b",
   "metadata": {},
   "source": [
    "## Only plot the annotations"
   ]
  },
  {
   "cell_type": "code",
   "execution_count": null,
   "id": "fed515b6",
   "metadata": {},
   "outputs": [],
   "source": [
    "df = pd.DataFrame(['AAAA1'] * 5 + ['BBBBB2'] * 5, columns=['AB'])\n",
    "df['CD'] = ['C'] * 3 + ['D'] * 3 + ['G'] * 4\n",
    "df['F'] = np.random.normal(0, 1, 10)\n",
    "df.index = ['sample' + str(i) for i in range(1, df.shape[0] + 1)]\n",
    "df_box = pd.DataFrame(np.random.randn(10, 4), columns=['Gene' + str(i) for i in range(1, 5)])\n",
    "df_box.index = ['sample' + str(i) for i in range(1, df_box.shape[0] + 1)]\n",
    "df_bar = pd.DataFrame(np.random.uniform(0, 10, (10, 2)), columns=['TMB1', 'TMB2'])\n",
    "df_bar.index = ['sample' + str(i) for i in range(1, df_box.shape[0] + 1)]\n",
    "df_scatter = pd.DataFrame(np.random.uniform(0, 10, 10), columns=['Scatter'])\n",
    "df_scatter.index = ['sample' + str(i) for i in range(1, df_box.shape[0] + 1)]\n",
    "df_bar1 = pd.DataFrame(np.random.uniform(0, 10, (10, 2)), columns=['T1-A', 'T1-B'])\n",
    "df_bar1.index = ['sample' + str(i) for i in range(1, df_box.shape[0] + 1)]\n",
    "df_bar2 = pd.DataFrame(np.random.uniform(0, 10, (10, 2)), columns=['T2-A', 'T2-B'])\n",
    "df_bar2.index = ['sample' + str(i) for i in range(1, df_box.shape[0] + 1)]\n",
    "df_bar3 = pd.DataFrame(np.random.uniform(0, 10, (10, 2)), columns=['T3-A', 'T3-B'])\n",
    "df_bar3.index = ['sample' + str(i) for i in range(1, df_box.shape[0] + 1)]\n",
    "df_bar3.iloc[5,0]=np.nan\n",
    "df_bar4 = pd.DataFrame(np.random.uniform(0, 10, (10, 1)), columns=['T4'])\n",
    "df_bar4.index = ['sample' + str(i) for i in range(1, df_box.shape[0] + 1)]\n",
    "df_bar4.iloc[7,0]=np.nan\n",
    "print(df)\n",
    "print(df_box)\n",
    "print(df_scatter)\n",
    "print(df_bar)\n",
    "print(df_bar1)\n",
    "print(df_bar2)\n",
    "print(df_bar3)\n",
    "print(df_bar4)"
   ]
  },
  {
   "cell_type": "code",
   "execution_count": null,
   "id": "bda77c6f",
   "metadata": {},
   "outputs": [],
   "source": [
    "plt.figure(figsize=(4, 8))\n",
    "col_ha = HeatmapAnnotation(label=anno_label(df.AB, merge=True,rotation=15),\n",
    "                            AB=anno_simple(df.AB,add_text=True,legend=True), axis=1,\n",
    "                            CD=anno_simple(df.CD, add_text=True,legend=True,text_kws={'color':'black'}),\n",
    "                            Exp=anno_boxplot(df_box, cmap='turbo',legend=True),\n",
    "                            Scatter=anno_scatterplot(df_scatter), \n",
    "                           TMB_bar=anno_barplot(df_bar,legend=True,cmap='Set1'),\n",
    "                           Bar1=anno_barplot(df_bar1,legend=True,cmap='Dark2'),\n",
    "                           Bar4=anno_barplot(df_bar4,legend=True,cmap='turbo'),\n",
    "                           Bar2=anno_barplot(df_bar2,legend=True,cmap='tab10'),\n",
    "                           Bar3=anno_barplot(df_bar3,legend=True,cmap='Paired'),\n",
    "                           plot=True,legend=True,legend_gap=5,hgap=0.5)\n",
    "col_ha.show_ticklabels(df.index.tolist(),fontdict={'color':'blue'},rotation=-30)\n",
    "plt.show()"
   ]
  },
  {
   "cell_type": "markdown",
   "id": "936cf9d7",
   "metadata": {},
   "source": [
    "## Change orentation `down` and add extra space"
   ]
  },
  {
   "cell_type": "code",
   "execution_count": null,
   "id": "dbf32278",
   "metadata": {},
   "outputs": [],
   "source": [
    "plt.figure(figsize=(4, 8))\n",
    "row_ha = HeatmapAnnotation(\n",
    "                           TMB_bar=anno_barplot(df_bar,legend=True,cmap='Set1'),\n",
    "                           Bar1=anno_barplot(df_bar1,legend=True,cmap='Dark2'),\n",
    "                           Bar4=anno_barplot(df_bar4,legend=True,cmap='turbo'),\n",
    "                           Bar2=anno_barplot(df_bar2,legend=True,cmap='tab10'),\n",
    "                           Bar3=anno_barplot(df_bar3,legend=True,cmap='Paired'),\n",
    "                            Scatter=anno_scatterplot(df_scatter), \n",
    "                            Exp=anno_boxplot(df_box, cmap='turbo',legend=True),\n",
    "                            CD=anno_simple(df.CD, colors={'C': 'red', 'D': 'gray', 'G': 'yellow'},\n",
    "                                           add_text=True,legend=True,text_kws={'color':'black'}),\n",
    "                            AB=anno_simple(df.AB,add_text=True,legend=True),\n",
    "                            label=anno_label(df.AB, merge=True,rotation=-15),\n",
    "                           plot=True,plot_legend=False,legend_hpad=13,axis=1,hgap=1\n",
    "                            )\n",
    "row_ha.show_ticklabels(df.index.tolist(),fontdict={'color':'blue'},rotation=30)\n",
    "plt.show()\n",
    "# Here, we can use hgap (when axis=1) or wgap (when axis=0) to control the widh of height space between different annotations."
   ]
  },
  {
   "cell_type": "markdown",
   "id": "336fcc12",
   "metadata": {},
   "source": [
    "## Change orentation to the left"
   ]
  },
  {
   "cell_type": "code",
   "execution_count": null,
   "id": "6a985d93",
   "metadata": {},
   "outputs": [],
   "source": [
    "plt.figure(figsize=(8, 4))\n",
    "row_ha = HeatmapAnnotation(label=anno_label(df.AB, merge=True,rotation=15),\n",
    "                            AB=anno_simple(df.AB,add_text=True,legend=True),\n",
    "                            CD=anno_simple(df.CD,add_text=True,legend=True),\n",
    "                            Exp=anno_boxplot(df_box, cmap='turbo',legend=True),\n",
    "                            Scatter=anno_scatterplot(df_scatter), \n",
    "                           TMB_bar=anno_barplot(df_bar,legend=True,cmap='Set1'),\n",
    "                           Bar1=anno_barplot(df_bar1,legend=True,cmap='Dark2'),\n",
    "                           Bar4=anno_barplot(df_bar4,legend=True,cmap='turbo'),\n",
    "                           Bar2=anno_barplot(df_bar2,legend=True,cmap='tab10'),\n",
    "                           Bar3=anno_barplot(df_bar3,legend=True,cmap='Paired'),\n",
    "                           plot=True,legend=True,legend_gap=5,\n",
    "                           axis=0,legend_hpad=20\n",
    "                            )\n",
    "row_ha.show_ticklabels(df.index.tolist(),fontdict={'color':'blue'},rotation=0)\n",
    "plt.show()"
   ]
  },
  {
   "cell_type": "markdown",
   "id": "0cd02664",
   "metadata": {},
   "source": [
    "## Change orentation to the right"
   ]
  },
  {
   "cell_type": "code",
   "execution_count": null,
   "id": "4894faae",
   "metadata": {},
   "outputs": [],
   "source": [
    "plt.figure(figsize=(8, 4))\n",
    "row_ha = HeatmapAnnotation(\n",
    "                           TMB_bar=anno_barplot(df_bar,legend=True,cmap='Set1'),\n",
    "                           Bar1=anno_barplot(df_bar1,legend=True,cmap='Dark2'),\n",
    "                           Bar4=anno_barplot(df_bar4,legend=True,cmap='turbo'),\n",
    "                           Bar2=anno_barplot(df_bar2,legend=True,cmap='tab10'),\n",
    "                           Bar3=anno_barplot(df_bar3,legend=True,cmap='Paired'),\n",
    "                            Scatter=anno_scatterplot(df_scatter), \n",
    "                            Exp=anno_boxplot(df_box, cmap='turbo',legend=True),\n",
    "                            CD=anno_simple(df.CD, colors={'C': 'red', 'D': 'gray', 'G': 'green'},\n",
    "                                           add_text=True,legend=True,text_kws={'rotation':-90}),\n",
    "                            AB=anno_simple(df.AB,add_text=True,legend=True,text_kws={'rotation':-90,'color':'black'}),\n",
    "                            label=anno_label(df.AB, merge=True,rotation=15),\n",
    "                           plot=True,legend=True,legend_hpad=13,legend_gap=5,axis=0\n",
    "                            )\n",
    "row_ha.show_ticklabels(df.index.tolist(),fontdict={'color':'black'},rotation=0)\n",
    "plt.show()"
   ]
  },
  {
   "cell_type": "markdown",
   "id": "81ba0fb7",
   "metadata": {},
   "source": [
    "## Changing orientation using parameter `orientation` \n",
    "By Default, if there is no `anno_label` in the annotation, the oriention would be determined by parameter `orientation`."
   ]
  },
  {
   "cell_type": "code",
   "execution_count": null,
   "id": "c79fea5b",
   "metadata": {},
   "outputs": [],
   "source": [
    "plt.figure(figsize=(8, 4))\n",
    "col_ha = HeatmapAnnotation(\n",
    "                            AB=anno_simple(df.AB,add_text=True,legend=True),\n",
    "                            CD=anno_simple(df.CD,add_text=True,legend=True),\n",
    "                            Exp=anno_boxplot(df_box, cmap='turbo',legend=True),\n",
    "                            Scatter=anno_scatterplot(df_scatter), \n",
    "                           TMB_bar=anno_barplot(df_bar,legend=True,cmap='Set1'),\n",
    "                           Bar1=anno_barplot(df_bar1,legend=True,cmap='Dark2'),\n",
    "                           Bar4=anno_barplot(df_bar4,legend=True,cmap='turbo'),\n",
    "                           Bar2=anno_barplot(df_bar2,legend=True,cmap='tab10'),\n",
    "                           Bar3=anno_barplot(df_bar3,legend=True,cmap='Paired'),\n",
    "                           plot=True,legend=True,axis=0,\n",
    "                            legend_gap=5,orientation='left',\n",
    "                            )\n",
    "plt.show()"
   ]
  },
  {
   "cell_type": "code",
   "execution_count": null,
   "id": "a6362dda",
   "metadata": {},
   "outputs": [],
   "source": [
    "plt.figure(figsize=(8, 4))\n",
    "col_ha = HeatmapAnnotation(\n",
    "                            AB=anno_simple(df.AB,add_text=True,legend=True,\n",
    "                                          text_kws={'rotation':-90,'fontsize':14,'color':'black'}),\n",
    "                            CD=anno_simple(df.CD,add_text=True,legend=True,\n",
    "                                          text_kws={'rotation':-90,'fontsize':14,'color':'white'}),\n",
    "                            Exp=anno_boxplot(df_box, cmap='turbo',legend=True),\n",
    "                            Scatter=anno_scatterplot(df_scatter), \n",
    "                           TMB_bar=anno_barplot(df_bar,legend=True,cmap='Set1'),\n",
    "                           Bar1=anno_barplot(df_bar1,legend=True,cmap='Dark2'),\n",
    "                           Bar4=anno_barplot(df_bar4,legend=True,cmap='turbo'),\n",
    "                           Bar2=anno_barplot(df_bar2,legend=True,cmap='tab10'),\n",
    "                           Bar3=anno_barplot(df_bar3,legend=True,cmap='Paired'),\n",
    "                           plot=True,legend=True,axis=0,wgap=3,\n",
    "                            legend_gap=5,orientation='right',\n",
    "                            )\n",
    "plt.show()"
   ]
  },
  {
   "cell_type": "markdown",
   "id": "82be7292-ce83-4548-ba30-676d742d5983",
   "metadata": {},
   "source": [
    "## Add multiple heatmap annotations using `for` loop\n",
    "Typically, we can create a heatmap annotatin using the following code:<br>\n",
    "\n",
    "```python\n",
    "\n",
    "col_ha = HeatmapAnnotation(\n",
    "                        Group=anno_simple(df_cols.hypomethylated_samples,colors=sample_group_color_dict,legend=True),\n",
    "                        CellType=anno_simple(df_cols.CellType,colors=ct_color_dict,legend=ct_legend),\n",
    "                        M1=anno_simple(df_cols['M1'],cmap='jet',legend=lgd,vmax=1,vmin=0,legend_kws={'label':'M1'}),\n",
    "                        verbose=0,label_side='right',label_kws={'horizontalalignment':'left'})\n",
    "```\n",
    "<br>\n",
    "But what if we have many annotations, for example:<br>\n",
    "\n",
    "```python\n",
    "\n",
    "col_ha = HeatmapAnnotation(\n",
    "                        Group=anno_simple(df_cols.hypomethylated_samples,colors=sample_group_color_dict,legend=True),\n",
    "                        CellType=anno_simple(df_cols.CellType,colors=ct_color_dict,legend=ct_legend),\n",
    "                        M1=anno_simple(df_cols['M1'],cmap='jet',legend=lgd,vmax=1,vmin=0,legend_kws={'label':'M1'}),\n",
    "                        M2=anno_simple(df_cols['M2'],cmap='jet',legend=lgd,vmax=1,vmin=0,legend_kws={'label':'M2'}),\n",
    "                        M3=anno_simple(df_cols['M3'],cmap='jet',legend=lgd,vmax=1,vmin=0,legend_kws={'label':'M3'}),\n",
    "                        .....\n",
    "                        verbose=0,label_side='right',label_kws={'horizontalalignment':'left'})\n",
    "```\n",
    "\n",
    "<br>\n",
    "\n",
    "In this case, we can create an dict including the name and annotation as keys and values:<br>\n",
    "\n",
    "```python\n",
    "col_ha_dict={\n",
    "                'Group':anno_simple(df_cols.hypomethylated_samples,colors=sample_group_color_dict,legend=True),\n",
    "                'CellType':anno_simple(df_cols.CellType,colors=ct_color_dict,legend=ct_legend)\n",
    "                }\n",
    "\n",
    "\n",
    "for col in sample_cols:\n",
    "    col_ha_dict[col]=anno_simple(df_cols[col],cmap='jet',legend=lgd,vmax=1,vmin=0,legend_kws={'label':col})\n",
    "    \n",
    "col_ha = HeatmapAnnotation(**col_ha_dict,\n",
    "                           verbose=0,label_side='right',label_kws={'horizontalalignment':'left'})\n",
    "\n",
    "```"
   ]
  },
  {
   "cell_type": "markdown",
   "id": "92a9177c-f7d0-4cd7-950d-4f9abcb8bed2",
   "metadata": {},
   "source": [
    "## <b>Cluster between groups and cluster within groups</b>\n",
    "Similar to `cluster_between_groups` and `cluster_within_groups` in R (https://jokergoo.github.io/2021/03/05/cluster-groups-in-complexheatmap/)"
   ]
  },
  {
   "cell_type": "markdown",
   "id": "2fd32d0d-0657-4cfe-8dce-0ba9ba0fddcb",
   "metadata": {},
   "source": [
    "### clsuter within groups: `col_split=*, col_cluster=True`"
   ]
  },
  {
   "cell_type": "code",
   "execution_count": null,
   "id": "f8d716b4-5bf4-4669-81e0-7845f0334d53",
   "metadata": {},
   "outputs": [],
   "source": [
    "df['Groups']=['G1']+['G2']+['G3']*5+['G4']+['G5']*2\n",
    "col_ha = HeatmapAnnotation(\n",
    "                           Groups=anno_simple(df.Groups,add_text=True,text_kws={'color':'black'}),\n",
    "                           AB=anno_simple(df.AB,add_text=True),axis=1,\n",
    "                           Exp=anno_boxplot(df_box, cmap='turbo'),\n",
    "                           verbose=0) #verbose=0 will turn off the log.\n",
    "\n",
    "\n",
    "plt.figure(figsize=(6, 8))\n",
    "cm = ClusterMapPlotter(data=df_heatmap, top_annotation=col_ha,\n",
    "                       col_split=df.Groups,col_split_gap=2,\n",
    "                       col_cluster=True,row_cluster=True,col_dendrogram=True,\n",
    "                       label='values',show_rownames=True,show_colnames=True,\n",
    "                         tree_kws={'col_cmap': 'Set1'},verbose=0,legend_gap=7,\n",
    "                       annot=True,fmt='.1g',linewidths=0.05,linecolor='gold',cmap='RdYlBu_r',\n",
    "                      xticklabels_kws={'labelrotation':-45,'labelcolor':'blue'},\n",
    "                      ylabel='Features')\n",
    "plt.show()"
   ]
  },
  {
   "cell_type": "markdown",
   "id": "1c4dd3b9-c41e-4a90-a8f1-e968ffa6a912",
   "metadata": {},
   "source": [
    "### cluster_between_groups: `col_split=*, col_split_order=\"cluster_between_groups\",col_cluster=False`"
   ]
  },
  {
   "cell_type": "code",
   "execution_count": null,
   "id": "de37006c-1ec2-4986-a81a-7b7f16ab9183",
   "metadata": {},
   "outputs": [],
   "source": [
    "plt.figure(figsize=(6, 8))\n",
    "cm = ClusterMapPlotter(data=df_heatmap, top_annotation=col_ha,\n",
    "                       col_split=df.Groups, col_split_order=\"cluster_between_groups\",\n",
    "                       col_split_gap=2,col_cluster=False,\n",
    "                       row_cluster=True,col_dendrogram=True,\n",
    "                       label='values',show_rownames=True,show_colnames=True,\n",
    "                       tree_kws={'colors':'blue'},verbose=0,legend_gap=7,\n",
    "                       annot=True,fmt='.1g',linewidths=0.05,linecolor='gold',cmap='RdYlBu_r',\n",
    "                      xticklabels_kws={'labelrotation':-45,'labelcolor':'blue'},\n",
    "                      ylabel='Features')\n",
    "plt.show()"
   ]
  },
  {
   "cell_type": "markdown",
   "id": "646f1094-b2e1-45e5-8d37-d7a7c1d265fc",
   "metadata": {},
   "source": [
    "### cluster_within_groups && cluster_between_groups: `col_split=*, col_split_order=\"cluster_between_groups\",col_cluster=True`"
   ]
  },
  {
   "cell_type": "code",
   "execution_count": null,
   "id": "90fbc221-5443-46d6-a1bc-db8fee28e91b",
   "metadata": {},
   "outputs": [],
   "source": [
    "plt.figure(figsize=(6, 8))\n",
    "cm = ClusterMapPlotter(data=df_heatmap, top_annotation=col_ha,\n",
    "                       col_split=df.loc[:,['AB','Groups']], col_split_order=\"cluster_between_groups\",\n",
    "                       col_split_gap=2,col_cluster=True,\n",
    "                       row_cluster=True,col_dendrogram=True,\n",
    "                       label='values',show_rownames=True,show_colnames=True,\n",
    "                       tree_kws={'colors':'blue'},verbose=0,legend_gap=7,\n",
    "                       annot=True,fmt='.1g',linewidths=0.05,linecolor='gold',cmap='RdYlBu_r',\n",
    "                      xticklabels_kws={'labelrotation':-45,'labelcolor':'blue'},\n",
    "                      ylabel='Features')\n",
    "plt.show()"
   ]
  },
  {
   "cell_type": "markdown",
   "id": "8f7a067f-0901-46b0-b2f4-d64a34f7cde0",
   "metadata": {},
   "source": [
    "## Custom annotation"
   ]
  },
  {
   "cell_type": "code",
   "execution_count": null,
   "id": "36b91e3f-73e3-4863-beff-fed70ed4b594",
   "metadata": {},
   "outputs": [],
   "source": [
    "annot=df_heatmap.applymap(lambda x:'***' if x >= 2 else '**' if x >=1 else '*')\n",
    "plt.figure(figsize=(6, 8))\n",
    "cm = ClusterMapPlotter(data=df_heatmap, top_annotation=col_ha,\n",
    "                       annot=annot,fmt=None,annot_kws={'color':'black'},\n",
    "                       col_split=df.Groups, col_split_order=\"cluster_between_groups\",\n",
    "                       col_cluster=True,row_cluster=True,\n",
    "                       label='values',\n",
    "                       tree_kws={'col_cmap': 'Set1'},verbose=0,legend_gap=7,\n",
    "                       linewidths=0.05,linecolor='white',cmap='coolwarm',\n",
    "                      xticklabels_kws={'labelrotation':-45,'labelcolor':'blue'})\n",
    "plt.show()"
   ]
  },
  {
   "cell_type": "markdown",
   "id": "790d02a9-c81d-49bd-bfe2-df0b9bbd10e0",
   "metadata": {},
   "source": [
    "## Choosing Build-in colormap in PyComplexHeatmap"
   ]
  },
  {
   "cell_type": "markdown",
   "id": "81302196-63f4-4a49-9997-201d25df4665",
   "metadata": {},
   "source": [
    "### Diverging\n",
    "- exp1\n",
    "- exp2\n",
    "- meth1\n",
    "- meth2\n",
    "- diverging1\n",
    "- parula"
   ]
  },
  {
   "cell_type": "code",
   "execution_count": null,
   "id": "617f1945-926a-4d63-84a1-7fd450e391c9",
   "metadata": {},
   "outputs": [],
   "source": [
    "from PyComplexHeatmap.utils import get_colormap"
   ]
  },
  {
   "cell_type": "code",
   "execution_count": null,
   "id": "11ed54da-0312-463a-95a8-ab9e95b811d9",
   "metadata": {},
   "outputs": [],
   "source": [
    "import numpy as np\n",
    "import matplotlib as mpl\n",
    "import matplotlib.pyplot as plt\n",
    "cmaps = {}\n",
    "\n",
    "gradient = np.linspace(0, 1, 256)\n",
    "gradient = np.vstack((gradient, gradient))\n",
    "\n",
    "\n",
    "def plot_color_gradients(category, cmap_list):\n",
    "    # Create figure and adjust figure height to number of colormaps\n",
    "    nrows = len(cmap_list)\n",
    "    figh = 0.35 + 0.15 + (nrows + (nrows - 1) * 0.1) * 0.22\n",
    "    fig, axs = plt.subplots(nrows=nrows + 1, figsize=(6.4, figh))\n",
    "    fig.subplots_adjust(top=1 - 0.35 / figh, bottom=0.15 / figh,\n",
    "                        left=0.2, right=0.99)\n",
    "    axs[0].set_title(f'{category} colormaps', fontsize=14)\n",
    "\n",
    "    for ax, name in zip(axs, cmap_list):\n",
    "        ax.imshow(gradient, aspect='auto', cmap=mpl.colormaps[name])\n",
    "        ax.text(-0.01, 0.5, name, va='center', ha='right', fontsize=10,\n",
    "                transform=ax.transAxes)\n",
    "\n",
    "    # Turn off *all* ticks & spines, not just the ones with colormaps.\n",
    "    for ax in axs:\n",
    "        ax.set_axis_off()\n",
    "\n",
    "    # Save colormap list for later.\n",
    "    cmaps[category] = cmap_list"
   ]
  },
  {
   "cell_type": "code",
   "execution_count": null,
   "id": "8bde0a15-ec4d-4647-bebc-0641296c45a2",
   "metadata": {},
   "outputs": [],
   "source": [
    "plot_color_gradients('Sequential',\n",
    "                     ['exp1', 'exp2', 'meth1', 'meth2', 'diverging1', 'parula'])"
   ]
  },
  {
   "cell_type": "markdown",
   "id": "e8f840c5-36fc-469d-9435-3e579f473fb4",
   "metadata": {},
   "source": [
    "### Qualitative\n",
    "- cmap50"
   ]
  },
  {
   "cell_type": "code",
   "execution_count": null,
   "id": "83a2821e-cb3b-4986-9f8b-ee6b1d3cf995",
   "metadata": {},
   "outputs": [],
   "source": [
    "# get_colormap(\"cmap50\") # 50 different colors"
   ]
  },
  {
   "cell_type": "code",
   "execution_count": null,
   "id": "4139ad40-4d85-4645-b92e-485439b2da31",
   "metadata": {},
   "outputs": [],
   "source": [
    "plot_color_gradients('Qualitative',\n",
    "                     ['cmap50'])"
   ]
  },
  {
   "cell_type": "markdown",
   "id": "af16dc43-503f-42fb-85f2-60465c33d68e",
   "metadata": {},
   "source": [
    "### How to use the Build-in cmap?\n",
    "\n",
    "Just set cmap=\"custom_cmap\""
   ]
  },
  {
   "cell_type": "code",
   "execution_count": null,
   "id": "82a68ffa-19dd-4ed5-a210-cf0996cb9926",
   "metadata": {},
   "outputs": [],
   "source": [
    "df = pd.DataFrame(['GroupA'] * 5 + ['GroupB'] * 5, columns=['AB'])\n",
    "df['CD'] = ['C'] * 3 + ['D'] * 3 + ['G'] * 4\n",
    "df['EF'] = ['E'] * 6 + ['F'] * 2 + ['H'] * 2\n",
    "df['F'] = np.random.normal(0, 1, 10)\n",
    "df.index = ['sample' + str(i) for i in range(1, df.shape[0] + 1)]\n",
    "\n",
    "df_heatmap = pd.DataFrame(np.random.randn(30, 10), columns=['sample' + str(i) for i in range(1, 11)])\n",
    "df_heatmap.index = [\"Fea\" + str(i) for i in range(1, df_heatmap.shape[0] + 1)]\n",
    "df_heatmap.iloc[1, 2] = np.nan\n",
    "\n",
    "plt.figure(figsize=(3.5, 5))\n",
    "cm = ClusterMapPlotter(data=df_heatmap,\n",
    "                       col_cluster=True,row_cluster=True,\n",
    "                       col_split=df.AB,row_split=2, \n",
    "                       col_split_gap=0.5,row_split_gap=0.8,\n",
    "                       label='values',row_dendrogram=True,\n",
    "                       show_rownames=False,show_colnames=True,\n",
    "                       tree_kws={'row_cmap': 'Set1'},verbose=0,legend_gap=5,\n",
    "                       cmap='parula',xticklabels_kws={'labelrotation':-90,'labelcolor':'blue'},\n",
    "                      ylabel=\"Features\")\n",
    "# plt.savefig(\"example0.pdf\", bbox_inches='tight')\n",
    "plt.show()"
   ]
  },
  {
   "cell_type": "code",
   "execution_count": null,
   "id": "069a81fb-81ad-4fa1-84f5-14a7d551644f",
   "metadata": {},
   "outputs": [],
   "source": [
    "plt.figure(figsize=(3.5, 5))\n",
    "cm = ClusterMapPlotter(data=df_heatmap,\n",
    "                       col_cluster=True,row_cluster=True,\n",
    "                       col_split=df.AB,row_split=2, \n",
    "                       col_split_gap=0.5,row_split_gap=0.8,\n",
    "                       label='values',row_dendrogram=True,\n",
    "                       show_rownames=True,show_colnames=True,row_names_side='right',\n",
    "                       tree_kws={'row_cmap': 'Set1'},verbose=0,legend_gap=5,\n",
    "                       cmap='meth2',xticklabels_kws={'labelrotation':-90,'labelcolor':'blue'})\n",
    "plt.show()"
   ]
  }
 ],
 "metadata": {
  "kernelspec": {
   "display_name": "Python 3 (ipykernel)",
   "language": "python",
   "name": "python3"
  },
  "language_info": {
   "codemirror_mode": {
    "name": "ipython",
    "version": 3
   },
   "file_extension": ".py",
   "mimetype": "text/x-python",
   "name": "python",
   "nbconvert_exporter": "python",
   "pygments_lexer": "ipython3",
   "version": "3.8.17"
  }
 },
 "nbformat": 4,
 "nbformat_minor": 5
}
